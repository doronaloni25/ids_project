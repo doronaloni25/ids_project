{
 "cells": [
  {
   "cell_type": "code",
   "execution_count": 130,
   "id": "d2eba5f0",
   "metadata": {},
   "outputs": [
    {
     "name": "stdout",
     "output_type": "stream",
     "text": [
      "Note: you may need to restart the kernel to use updated packages.\n"
     ]
    },
    {
     "name": "stderr",
     "output_type": "stream",
     "text": [
      "\n",
      "[notice] A new release of pip is available: 23.2.1 -> 25.1.1\n",
      "[notice] To update, run: python.exe -m pip install --upgrade pip\n"
     ]
    }
   ],
   "source": [
    "%pip install kagglehub kaggle torch numpy scikit-learn pandas matplotlib --quiet\n"
   ]
  },
  {
   "cell_type": "code",
   "execution_count": 132,
   "id": "5406747e",
   "metadata": {},
   "outputs": [],
   "source": [
    "from sklearn.model_selection import train_test_split\n",
    "from pathlib import Path\n",
    "from collections import Counter\n",
    "import numpy as np\n",
    "import kagglehub\n",
    "from sklearn.metrics import precision_recall_fscore_support, confusion_matrix\n",
    "from sklearn.ensemble import RandomForestClassifier\n",
    "from sklearn.metrics import classification_report, confusion_matrix\n",
    "from pathlib import Path\n",
    "import pandas as pd\n",
    "import matplotlib.pyplot as plt"
   ]
  },
  {
   "cell_type": "code",
   "execution_count": null,
   "id": "83e499a9",
   "metadata": {},
   "outputs": [
    {
     "name": "stdout",
     "output_type": "stream",
     "text": [
      "Number of unique syscalls in training: 174\n"
     ]
    }
   ],
   "source": [
    "# Where kagglehub unpacked\n",
    "root = Path(kagglehub.dataset_download(\"yianqaq/adfa-ld\"))\n",
    "\n",
    "# The “master” folder of the original release\n",
    "base = root / \"ADFA-LD\"\n",
    "train_dir  = base / \"Training_Data_Master\"\n",
    "val_dir    = base / \"Validation_Data_Master\"\n",
    "attack_dir = base / \"Attack_Data_Master\"\n",
    "\n",
    "\n",
    "# Gather paths and labels\n",
    "normals = list(train_dir.glob(\"*.txt\")) + list(val_dir.glob(\"*.txt\"))\n",
    "attacks = list(attack_dir.rglob(\"*.txt\"))\n",
    "\n",
    "all_paths  = normals + attacks\n",
    "all_labels = [0]*len(normals) + [1]*len(attacks)\n",
    "\n",
    "# First split: carve off TEST (20%)\n",
    "trainval_paths, test_paths, trainval_labels, test_labels = train_test_split(\n",
    "    all_paths, all_labels,\n",
    "    test_size=0.20,\n",
    "    stratify=all_labels,\n",
    "    random_state=42\n",
    ")\n",
    "\n",
    "# Second split: from remaining 80%, carve off VAL (20% of that → 16% of total)\n",
    "train_paths, val_paths, train_labels, val_labels = train_test_split(\n",
    "    trainval_paths, trainval_labels,\n",
    "    test_size=0.20,\n",
    "    stratify=trainval_labels,\n",
    "    random_state=42\n",
    ")\n",
    "\n",
    "def load_syscall_sequence(path):\n",
    "    text = path.read_text().strip()\n",
    "    return list(map(int, text.split()))\n",
    "\n",
    "def load_all_sequences(paths):\n",
    "    return [load_syscall_sequence(p) for p in paths]\n",
    "\n",
    "# Create a vocabulary of syscalls from 0 to N where N is the number of unique syscalls seen in the training set.\n",
    "cnt = Counter()\n",
    "train_seqs = load_all_sequences(train_paths)\n",
    "val_seqs   = load_all_sequences(val_paths)\n",
    "test_seqs  = load_all_sequences(test_paths)\n",
    "\n",
    "for seq in train_seqs:\n",
    "    cnt.update(seq)\n",
    "\n",
    "syscall2idx = {sys: i for i, (sys, _) in enumerate(cnt.most_common())}\n",
    "print(f\"Number of unique syscalls in training: {len(syscall2idx)}\")\n",
    "unknown_idx = len(syscall2idx)    # last index for “any other” syscalls\n",
    "vocab_size   = len(syscall2idx) "
   ]
  },
  {
   "cell_type": "markdown",
   "id": "3a544c13",
   "metadata": {},
   "source": [
    "# create histograms for every sample"
   ]
  },
  {
   "cell_type": "code",
   "execution_count": 62,
   "id": "77490cf5",
   "metadata": {},
   "outputs": [
    {
     "name": "stdout",
     "output_type": "stream",
     "text": [
      "▸ X_train shape: (3808, 175)\n",
      "▸ X_val shape: (952, 175)\n",
      "▸ X_test shape: (1191, 175)\n"
     ]
    }
   ],
   "source": [
    "def extract_histogram(sequence, syscall2idx):\n",
    "    # Create a histogram of syscall occurrences in the sequence\n",
    "    # unknown_idx is used for syscalls not seen in the training set\n",
    "    hist = np.zeros(len(syscall2idx) + 1, dtype=np.float32)\n",
    "    for syscall in sequence:\n",
    "        idx = syscall2idx.get(syscall, unknown_idx)\n",
    "        hist[idx] += 1\n",
    "    return hist\n",
    "\n",
    "def build_histogram_features(sequences, syscall2idx):\n",
    "    return np.array([extract_histogram(seq, syscall2idx) for seq in sequences])\n",
    "\n",
    "Xh_train = build_histogram_features(train_seqs, syscall2idx)\n",
    "Xh_val   = build_histogram_features(val_seqs, syscall2idx)\n",
    "Xh_test  = build_histogram_features(test_seqs, syscall2idx)\n",
    "\n",
    "y_train = np.array(train_labels)\n",
    "y_val   = np.array(val_labels)\n",
    "y_test  = np.array(test_labels)\n",
    "\n",
    "print(\"▸ X_train shape:\", Xh_train.shape)\n",
    "print(\"▸ X_val shape:\", Xh_val.shape)\n",
    "print(\"▸ X_test shape:\", Xh_test.shape)"
   ]
  },
  {
   "cell_type": "markdown",
   "id": "d330fc61",
   "metadata": {},
   "source": [
    "# Create 3grams"
   ]
  },
  {
   "cell_type": "code",
   "execution_count": null,
   "id": "b18f560b",
   "metadata": {},
   "outputs": [
    {
     "name": "stdout",
     "output_type": "stream",
     "text": [
      "Using top 500 3-grams as features.\n",
      "▸ X3_train shape: (3808, 500)\n",
      "▸ X3_val   shape: (952, 500)\n",
      "▸ X3_test  shape: (1191, 500)\n"
     ]
    }
   ],
   "source": [
    "# Count all 3-grams in the TRAIN set\n",
    "def count_3grams(seqs):\n",
    "    ctr = Counter()\n",
    "    for seq in seqs:\n",
    "        for i in range(len(seq) - 2):\n",
    "            trigram = (seq[i], seq[i+1], seq[i+2])\n",
    "            ctr[trigram] += 1\n",
    "    return ctr\n",
    "\n",
    "threegram_counter = count_3grams(train_seqs)\n",
    "\n",
    "# Keep only the top-k most common 3-grams\n",
    "k = 500\n",
    "top_k_3grams = [threeg for threeg, _ in threegram_counter.most_common(k)]\n",
    "\n",
    "# Build a mapping from trigram → column index\n",
    "threegram2idx = {threeg: i for i, threeg in enumerate(top_k_3grams)}\n",
    "print(f\"Using top {len(threegram2idx)} 3-grams as features.\")\n",
    "\n",
    "# Function to extract a k-dimensional count vector from a single sequence\n",
    "# addes to each of the 3-grams bin if it appears in the sequence\n",
    "# If a trigram is not in the mapping, it is ignored.\n",
    "def extract_3gram_features(seq, threegram2idx):\n",
    "    vec = np.zeros(len(threegram2idx), dtype=np.float32)\n",
    "    for i in range(len(seq) - 2):\n",
    "        tg = (seq[i], seq[i+1], seq[i+2])\n",
    "        idx = threegram2idx.get(tg)\n",
    "        if idx is not None:\n",
    "            vec[idx] += 1\n",
    "    return vec\n",
    "\n",
    "# Build full 3-gram feature matrices\n",
    "X3_train = np.array([extract_3gram_features(seq, threegram2idx) for seq in train_seqs])\n",
    "X3_val   = np.array([extract_3gram_features(seq, threegram2idx) for seq in val_seqs])\n",
    "X3_test  = np.array([extract_3gram_features(seq, threegram2idx) for seq in test_seqs])\n",
    "\n",
    "print(\"▸ X3_train shape:\", X3_train.shape)  # expected (n_train, 500)\n",
    "print(\"▸ X3_val   shape:\", X3_val.shape)\n",
    "print(\"▸ X3_test  shape:\", X3_test.shape)\n"
   ]
  },
  {
   "cell_type": "markdown",
   "id": "bb45c0c9",
   "metadata": {},
   "source": [
    "# extracting statistical features"
   ]
  },
  {
   "cell_type": "code",
   "execution_count": 60,
   "id": "da0b98df",
   "metadata": {},
   "outputs": [
    {
     "name": "stdout",
     "output_type": "stream",
     "text": [
      "Length feature shapes: (3808, 1) (952, 1) (1191, 1)\n",
      "Unique-count feature shapes: (3808, 1) (952, 1) (1191, 1)\n",
      "Entropy feature shapes: (3808, 1) (952, 1) (1191, 1)\n",
      "Zero‐entropy samples count: 31\n",
      "First five zero‐entropy indices: [ 14  16  93 382 464]\n",
      "  • Zero‐entropy normals: 29\n",
      "  • Zero‐entropy attacks: 2\n",
      "Sample #14 first 5 syscalls: [162, 162, 162, 162, 162]\n",
      "Sample #14 is labeled: normal\n"
     ]
    }
   ],
   "source": [
    "# getting the total sequance length\n",
    "def extract_length_feature(seqs):\n",
    "    \"\"\"\n",
    "    Given a list of syscall sequences, return a (n_samples, 1) array\n",
    "    of their lengths.\n",
    "    \"\"\"\n",
    "    lengths = [len(seq) for seq in seqs]\n",
    "    return np.array(lengths, dtype=np.float32).reshape(-1, 1)\n",
    "\n",
    "# Build the length feature for each split\n",
    "Xlen_train = extract_length_feature(train_seqs)\n",
    "Xlen_val   = extract_length_feature(val_seqs)\n",
    "Xlen_test  = extract_length_feature(test_seqs)\n",
    "\n",
    "print(\"Length feature shapes:\",\n",
    "      Xlen_train.shape, Xlen_val.shape, Xlen_test.shape)\n",
    "\n",
    "#getting the number of unique syscalls in each sequence\n",
    "\n",
    "def extract_unique_count_feature(seqs):\n",
    "    \"\"\"\n",
    "    Given a list of syscall sequences, return a (n_samples, 1) array\n",
    "    of the count of unique syscalls in each sequence.\n",
    "    \"\"\"\n",
    "    uniques = [len(set(seq)) for seq in seqs]\n",
    "    return np.array(uniques, dtype=np.float32).reshape(-1, 1)\n",
    "\n",
    "# Build the unique-count feature for each split\n",
    "Xuniq_train = extract_unique_count_feature(train_seqs)\n",
    "Xuniq_val   = extract_unique_count_feature(val_seqs)\n",
    "Xuniq_test  = extract_unique_count_feature(test_seqs)\n",
    "\n",
    "print(\"Unique-count feature shapes:\",\n",
    "      Xuniq_train.shape, Xuniq_val.shape, Xuniq_test.shape)\n",
    "\n",
    "# getting the enropy of each sequence\n",
    "def extract_entropy_feature(seqs):\n",
    "    \"\"\"\n",
    "    Compute Shannon entropy (in bits) for each syscall sequence.\n",
    "    Args:\n",
    "      seqs (List[List[int]]): List of sequences, each a list of syscall IDs.\n",
    "    Returns:\n",
    "      np.ndarray of shape (n_samples, 1): The entropy of each sequence.\n",
    "    \"\"\"\n",
    "    entropies = []\n",
    "    for seq in seqs:\n",
    "        length = len(seq)\n",
    "        if length == 0:\n",
    "            entropies.append(0.0)\n",
    "            continue\n",
    "        # Count how many times each syscall appears\n",
    "        _, counts = np.unique(seq, return_counts=True)\n",
    "        # Convert counts to probabilities\n",
    "        freqs = counts / counts.sum()\n",
    "        # Compute H = -sum(p_i * log2(p_i))\n",
    "        ent = -np.sum(freqs * np.log2(freqs))\n",
    "        entropies.append(ent)\n",
    "    # Return as a (n_samples, 1) column vector\n",
    "    return np.array(entropies, dtype=np.float32).reshape(-1, 1)\n",
    "\n",
    "# Build the entropy feature for each split\n",
    "Xent_train = extract_entropy_feature(train_seqs)\n",
    "Xent_val   = extract_entropy_feature(val_seqs)\n",
    "Xent_test  = extract_entropy_feature(test_seqs)\n",
    "\n",
    "print(\"Entropy feature shapes:\",\n",
    "      Xent_train.shape, Xent_val.shape, Xent_test.shape)\n",
    "\n",
    "#senity check!\n",
    "# Find zero‐entropy samples\n",
    "zero_ent_idx = np.where(Xent_train.flatten() == 0.0)[0]\n",
    "\n",
    "# 1) How many such samples?\n",
    "print(\"Zero‐entropy samples count:\", len(zero_ent_idx))\n",
    "\n",
    "# 2) What are the first five indices?\n",
    "print(\"First five zero‐entropy indices:\", zero_ent_idx[:5])\n",
    "\n",
    "# 3) Label breakdown\n",
    "labels_zero = y_train[zero_ent_idx]\n",
    "counts = np.bincount(labels_zero, minlength=2)\n",
    "print(f\"  • Zero‐entropy normals: {counts[0]}\")\n",
    "print(f\"  • Zero‐entropy attacks: {counts[1]}\")\n",
    "\n",
    "# 4) Inspect the first zero‐entropy sample\n",
    "first_idx = zero_ent_idx[0]\n",
    "print(f\"Sample #{first_idx} first 5 syscalls:\", train_seqs[first_idx][:5])\n",
    "print(f\"Sample #{first_idx} is labeled:\", \n",
    "      \"attack\" if y_train[first_idx] == 1 else \"normal\")"
   ]
  },
  {
   "cell_type": "markdown",
   "id": "4ea403fe",
   "metadata": {},
   "source": [
    "# combine the feature to create our vector"
   ]
  },
  {
   "cell_type": "code",
   "execution_count": null,
   "id": "b7223657",
   "metadata": {},
   "outputs": [
    {
     "name": "stdout",
     "output_type": "stream",
     "text": [
      "Full train shape: (3808, 678)\n",
      "Full val   shape: (952, 678)\n"
     ]
    }
   ],
   "source": [
    "#  [ histogram | 3-gram counts | length | unique-count | entropy ]= [175 + 500 + 1 +1 +1 ]\n",
    "X_train_full = np.hstack([Xh_train, X3_train, Xlen_train, Xuniq_train, Xent_train])\n",
    "X_val_full   = np.hstack([Xh_val,   X3_val,   Xlen_val,   Xuniq_val,   Xent_val])\n",
    "X_test_full  = np.hstack([Xh_test,  X3_test,  Xlen_test,  Xuniq_test,  Xent_test])\n",
    "\n",
    "print(\"Full train shape:\", X_train_full.shape)\n",
    "print(\"Full val   shape:\", X_val_full.shape)"
   ]
  },
  {
   "cell_type": "markdown",
   "id": "ff06864c",
   "metadata": {},
   "source": [
    "# model definition"
   ]
  },
  {
   "cell_type": "code",
   "execution_count": 111,
   "id": "418a906b",
   "metadata": {},
   "outputs": [],
   "source": [
    "rf = RandomForestClassifier(\n",
    "    n_estimators=100,\n",
    "    max_depth=None,\n",
    "    min_samples_split=2,\n",
    "    min_samples_leaf=1,\n",
    "    max_features='sqrt',\n",
    "    bootstrap=True,\n",
    "    class_weight='balanced',\n",
    "    #random state is set for reproducibility\n",
    "    random_state=42\n",
    ")"
   ]
  },
  {
   "cell_type": "markdown",
   "id": "eb55c1b7",
   "metadata": {},
   "source": [
    "# Training!"
   ]
  },
  {
   "cell_type": "code",
   "execution_count": 112,
   "id": "c4d1528b",
   "metadata": {},
   "outputs": [
    {
     "name": "stdout",
     "output_type": "stream",
     "text": [
      "Validation accuracy: 0.9821428571428571\n"
     ]
    }
   ],
   "source": [
    "\n",
    "\n",
    "# 2) Fit on the full training matrix\n",
    "rf.fit(X_train_full, y_train)\n",
    "\n",
    "# 3) Predict on validation\n",
    "y_val_pred = rf.predict(X_val_full)\n",
    "\n",
    "print(\"Validation accuracy:\", rf.score(X_val_full, y_val))"
   ]
  },
  {
   "cell_type": "markdown",
   "id": "51e65d8b",
   "metadata": {},
   "source": [
    "# Test!"
   ]
  },
  {
   "cell_type": "code",
   "execution_count": 113,
   "id": "a46f5b54",
   "metadata": {},
   "outputs": [
    {
     "name": "stdout",
     "output_type": "stream",
     "text": [
      "Test accuracy:     0.9739714525608733\n",
      "Test classification report:\n",
      "               precision    recall  f1-score   support\n",
      "\n",
      "           0     0.9773    0.9933    0.9852      1042\n",
      "           1     0.9470    0.8389    0.8897       149\n",
      "\n",
      "    accuracy                         0.9740      1191\n",
      "   macro avg     0.9622    0.9161    0.9375      1191\n",
      "weighted avg     0.9735    0.9740    0.9733      1191\n",
      "\n",
      "Test confusion matrix:\n",
      " [[1035    7]\n",
      " [  24  125]]\n"
     ]
    }
   ],
   "source": [
    "#predict on test set\n",
    "y_test_pred = rf.predict(X_test_full)\n",
    "print(\"Test accuracy:    \", rf.score(X_test_full, y_test))\n",
    "print(\"Test classification report:\\n\", classification_report(y_test, y_test_pred, digits=4))\n",
    "print(\"Test confusion matrix:\\n\", confusion_matrix(y_test, y_test_pred))"
   ]
  },
  {
   "cell_type": "markdown",
   "id": "ce19b6e5",
   "metadata": {},
   "source": [
    "# understanding the decision Tree"
   ]
  },
  {
   "cell_type": "markdown",
   "id": "b909162f",
   "metadata": {},
   "source": [
    "create feature names lists"
   ]
  },
  {
   "cell_type": "code",
   "execution_count": 114,
   "id": "691eb3cf",
   "metadata": {},
   "outputs": [],
   "source": [
    "\n",
    "#   Histogram features (including the “unknown” bin at the end)\n",
    "hist_feature_names = []\n",
    "# syscall2idx maps each original syscall ID → a compact index (0…H−1)\n",
    "# so we invert it, so we can map index → syscall\n",
    "idx2sys = {idx: sys for sys, idx in syscall2idx.items()}\n",
    "\n",
    "# For each known index, append a name like “hist_syscall_5” if syscall ID 5 was at that index\n",
    "for idx in range(len(syscall2idx)):\n",
    "    hist_feature_names.append(f\"hist_syscall_{idx2sys[idx]}\")\n",
    "# Finally add the “unknown” bin (for any syscall unseen in training)\n",
    "hist_feature_names.append(\"hist_unknown\")\n",
    "\n",
    "#  Top-k 3-gram features names list\n",
    "threegram_feature_names = [f\"3gram_{tg[0]}_{tg[1]}_{tg[2]}\" \n",
    "                           for tg in top_k_3grams]\n",
    "\n",
    "#  Statistical features name list\n",
    "stat_feature_names = [\"length\", \"unique_count\", \"entropy\"]\n",
    "\n",
    "# Combine\n",
    "feature_names = hist_feature_names + threegram_feature_names + stat_feature_names\n"
   ]
  },
  {
   "cell_type": "markdown",
   "id": "703b0c81",
   "metadata": {},
   "source": [
    "get importance of each feature and show"
   ]
  },
  {
   "cell_type": "code",
   "execution_count": 115,
   "id": "56701af0",
   "metadata": {},
   "outputs": [
    {
     "name": "stdout",
     "output_type": "stream",
     "text": [
      "\n",
      "Top 20 features by importance:\n",
      " 1. hist_syscall_45                0.0270\n",
      " 2. 3gram_192_6_192                0.0209\n",
      " 3. hist_syscall_243               0.0204\n",
      " 4. entropy                        0.0194\n",
      " 5. 3gram_243_125_125              0.0186\n",
      " 6. hist_syscall_6                 0.0186\n",
      " 7. hist_syscall_5                 0.0173\n",
      " 8. hist_syscall_197               0.0169\n",
      " 9. hist_syscall_11                0.0167\n",
      "10. hist_syscall_221               0.0155\n",
      "11. unique_count                   0.0149\n",
      "12. 3gram_11_45_33                 0.0147\n",
      "13. hist_syscall_311               0.0138\n",
      "14. hist_syscall_4                 0.0131\n",
      "15. 3gram_33_5_3                   0.0130\n",
      "16. 3gram_45_33_192                0.0127\n",
      "17. 3gram_192_6_33                 0.0121\n",
      "18. 3gram_192_33_5                 0.0115\n",
      "19. hist_syscall_195               0.0114\n",
      "20. length                         0.0112\n"
     ]
    }
   ],
   "source": [
    "\n",
    "#  Extract and sort importances\n",
    "importances = rf.feature_importances_\n",
    "sorted_idx = np.argsort(importances)[::-1]\n",
    "\n",
    "# Print top 20 most important features\n",
    "print(\"\\nTop 20 features by importance:\")\n",
    "for rank, idx in enumerate(sorted_idx[:20], 1):\n",
    "    name = feature_names[idx]\n",
    "    imp  = importances[idx]\n",
    "    print(f\"{rank:2d}. {name:30s} {imp:.4f}\")"
   ]
  },
  {
   "cell_type": "markdown",
   "id": "8666a5c1",
   "metadata": {},
   "source": [
    "# Non-linear SVM"
   ]
  },
  {
   "cell_type": "code",
   "execution_count": 122,
   "id": "4951d87e",
   "metadata": {},
   "outputs": [],
   "source": [
    "from sklearn.svm import SVC\n",
    "from sklearn.pipeline import Pipeline\n",
    "from sklearn.preprocessing import StandardScaler\n",
    "from sklearn.model_selection import GridSearchCV\n",
    "from sklearn.metrics import accuracy_score"
   ]
  },
  {
   "cell_type": "markdown",
   "id": "50600262",
   "metadata": {},
   "source": [
    "# model definition"
   ]
  },
  {
   "cell_type": "code",
   "execution_count": 160,
   "id": "5fc55a61",
   "metadata": {},
   "outputs": [],
   "source": [
    "# Build an SVM pipeline that first standardizes features, then applies RBF-SVC\n",
    "svm_model = Pipeline([\n",
    "    (\"scaler\", StandardScaler()),\n",
    "    (\"svc\", SVC(\n",
    "        kernel=\"rbf\",\n",
    "        random_state=42\n",
    "    ))\n",
    "])\n",
    "# set grid for hyperparameter tuning\n",
    "param_grid = {\n",
    "    \"svc__C\":     [0.1, 1, 10, 100],\n",
    "    \"svc__gamma\": [\"scale\", \"auto\", 0.001, 0.01, 0.1, 1],\n",
    "    \"svc__class_weight\": [\n",
    "        {0: 1, 1: 1},    # baseline\n",
    "        {0: 1, 1: 2},    # double weight on attacks\n",
    "        {0: 1, 1: 5},    # 5× weight on attacks\n",
    "    ]\n",
    "}\n",
    "grid_search = GridSearchCV(\n",
    "    estimator=svm_model,\n",
    "    param_grid=param_grid,\n",
    "    cv=5,                  # split training to 5 folds, train on 4 folds and score on 1\n",
    "    scoring=\"accuracy\",\n",
    "    n_jobs=-1,\n",
    "    verbose=2\n",
    ")"
   ]
  },
  {
   "cell_type": "markdown",
   "id": "9e2ce0a9",
   "metadata": {},
   "source": [
    "# Finding best C and gamma"
   ]
  },
  {
   "cell_type": "code",
   "execution_count": 161,
   "id": "b28af6f9",
   "metadata": {},
   "outputs": [
    {
     "name": "stdout",
     "output_type": "stream",
     "text": [
      "Fitting 5 folds for each of 72 candidates, totalling 360 fits\n"
     ]
    },
    {
     "data": {
      "image/png": "[encoded data removed]",
      "text/plain": [
       "<Figure size 1500x400 with 3 Axes>"
      ]
     },
     "metadata": {},
     "output_type": "display_data"
    }
   ],
   "source": [
    "grid_search.fit(X_train_full, y_train)\n",
    "\n",
    "# 4) Collect results\n",
    "df = pd.DataFrame(grid_search.cv_results_)\n",
    "# Create a readable label for each class_weight setting\n",
    "df[\"cw_label\"] = df[\"param_svc__class_weight\"].apply(lambda cw: f\"w1={cw[1]}\")\n",
    "\n",
    "# 5) Plot CV accuracy vs. C for each (gamma, class_weight) combination\n",
    "unique_cw = df[\"cw_label\"].unique()\n",
    "fig, axes = plt.subplots(1, len(unique_cw), figsize=(5 * len(unique_cw), 4), sharey=True)\n",
    "\n",
    "for ax, cw in zip(axes, unique_cw):\n",
    "    sub = df[df[\"cw_label\"] == cw]\n",
    "    pivot = sub.pivot_table(\n",
    "        index=\"param_svc__C\",\n",
    "        columns=\"param_svc__gamma\",\n",
    "        values=\"mean_test_score\"\n",
    "    )\n",
    "    for gamma in pivot.columns:\n",
    "        ax.plot(pivot.index.astype(float), pivot[gamma], marker='o', label=f\"γ={gamma}\")\n",
    "    ax.set_xscale(\"log\")\n",
    "    ax.set_xlabel(\"C\")\n",
    "    ax.set_title(f\"class_weight {cw}\")\n",
    "    if ax is axes[0]:\n",
    "        ax.set_ylabel(\"CV accuracy\")\n",
    "    ax.legend(loc=\"lower right\")\n",
    "\n",
    "plt.tight_layout()\n",
    "plt.show()\n"
   ]
  },
  {
   "cell_type": "code",
   "execution_count": 179,
   "id": "7ce72964",
   "metadata": {},
   "outputs": [
    {
     "name": "stdout",
     "output_type": "stream",
     "text": [
      "Best CV score:       0.9645493393483502\n",
      "Tolerance (±0.1%):    0.9635493393483502 – 0.9645493393483502\n",
      "\n",
      "Simplest model within tol:\n",
      "param_svc__C                       10.0\n",
      "param_svc__gamma                  scale\n",
      "param_svc__class_weight    {0: 1, 1: 1}\n",
      "mean_test_score                0.964549\n",
      "Name: 36, dtype: object\n"
     ]
    }
   ],
   "source": [
    "# put grid results into a DataFrame\n",
    "df = pd.DataFrame(grid_search.cv_results_)\n",
    "\n",
    "#  Compute the best mean CV score\n",
    "best_score = df['mean_test_score'].max()\n",
    "tol = 1e-3   # 0.001 = 0.1% tolerance\n",
    "\n",
    "#  Keep only those runs within tol of best_score\n",
    "close_enough = df[df['mean_test_score'] >= best_score - tol]\n",
    "\n",
    "#  Convert C to float so we can compare\n",
    "close_enough = close_enough.copy()\n",
    "close_enough['param_svc__C'] = close_enough['param_svc__C'].astype(float)\n",
    "\n",
    "# Pick the row with the smallest C as smaller C means less overfitting, more regularization\n",
    "idx = close_enough['param_svc__C'].idxmin()\n",
    "simple_model = close_enough.loc[idx, [\n",
    "    'param_svc__C',\n",
    "    'param_svc__gamma',\n",
    "    'param_svc__class_weight',\n",
    "    'mean_test_score'\n",
    "]]\n",
    "\n",
    "print(\"Best CV score:      \", best_score)\n",
    "print(\"Tolerance (±0.1%):   \", best_score - tol, \"–\", best_score)\n",
    "print(\"\\nSimplest model within tol:\")\n",
    "print(simple_model)"
   ]
  },
  {
   "cell_type": "code",
   "execution_count": 188,
   "id": "c2ccb093",
   "metadata": {},
   "outputs": [
    {
     "name": "stdout",
     "output_type": "stream",
     "text": [
      "SVM validation accuracy:  0.9684873949579832\n",
      "\n",
      "SVM validation report:\n",
      "              precision    recall  f1-score   support\n",
      "\n",
      "           0     0.9751    0.9892    0.9821       833\n",
      "           1     0.9159    0.8235    0.8673       119\n",
      "\n",
      "    accuracy                         0.9685       952\n",
      "   macro avg     0.9455    0.9064    0.9247       952\n",
      "weighted avg     0.9677    0.9685    0.9678       952\n",
      "\n",
      "SVM validation conf. matrix:\n",
      "[[824   9]\n",
      " [ 21  98]]\n"
     ]
    }
   ],
   "source": [
    "# save the best SVM model\n",
    "svm_model.set_params(svc__C=10, svc__gamma=\"scale\", svc__class_weight={0: 1, 1: 1})\n",
    "\n",
    "best_svm = svm_model.fit(X_train_full, y_train)\n",
    "\n",
    "# 3) Evaluate the best model on val & test\n",
    "y_val_pred  = best_svm.predict(X_val_full)\n",
    "print(\"SVM validation accuracy: \", accuracy_score(y_val, y_val_pred))\n",
    "print(\"\\nSVM validation report:\")\n",
    "print(classification_report(y_val, y_val_pred, digits=4))\n",
    "print(\"SVM validation conf. matrix:\")\n",
    "print(confusion_matrix(y_val, y_val_pred))"
   ]
  },
  {
   "cell_type": "markdown",
   "id": "7ad983bd",
   "metadata": {},
   "source": [
    "# Test!"
   ]
  },
  {
   "cell_type": "code",
   "execution_count": 189,
   "id": "d8efe33a",
   "metadata": {},
   "outputs": [
    {
     "name": "stdout",
     "output_type": "stream",
     "text": [
      "\n",
      "SVM test accuracy:        0.979009235936188\n",
      "\n",
      "SVM test report:\n",
      "              precision    recall  f1-score   support\n",
      "\n",
      "           0     0.9829    0.9933    0.9881      1042\n",
      "           1     0.9493    0.8792    0.9129       149\n",
      "\n",
      "    accuracy                         0.9790      1191\n",
      "   macro avg     0.9661    0.9362    0.9505      1191\n",
      "weighted avg     0.9787    0.9790    0.9787      1191\n",
      "\n",
      "SVM test conf. matrix:\n",
      "[[1035    7]\n",
      " [  18  131]]\n"
     ]
    }
   ],
   "source": [
    "# 4) Test performance\n",
    "y_test_pred = best_svm.predict(X_test_full)\n",
    "print(\"\\nSVM test accuracy:       \", accuracy_score(y_test, y_test_pred))\n",
    "print(\"\\nSVM test report:\")\n",
    "print(classification_report(y_test, y_test_pred, digits=4))\n",
    "print(\"SVM test conf. matrix:\")\n",
    "print(confusion_matrix(y_test, y_test_pred))"
   ]
  }
 ],
 "metadata": {
  "kernelspec": {
   "display_name": "venv",
   "language": "python",
   "name": "python3"
  },
  "language_info": {
   "codemirror_mode": {
    "name": "ipython",
    "version": 3
   },
   "file_extension": ".py",
   "mimetype": "text/x-python",
   "name": "python",
   "nbconvert_exporter": "python",
   "pygments_lexer": "ipython3",
   "version": "3.12.0"
  }
 },
 "nbformat": 4,
 "nbformat_minor": 5
}
